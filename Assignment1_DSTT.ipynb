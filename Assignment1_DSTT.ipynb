{
  "nbformat": 4,
  "nbformat_minor": 0,
  "metadata": {
    "colab": {
      "provenance": [],
      "collapsed_sections": [],
      "authorship_tag": "ABX9TyNafYe+s5v7SQyAIGjjlZ7I",
      "include_colab_link": true
    },
    "kernelspec": {
      "name": "python3",
      "display_name": "Python 3"
    },
    "language_info": {
      "name": "python"
    }
  },
  "cells": [
    {
      "cell_type": "markdown",
      "metadata": {
        "id": "view-in-github",
        "colab_type": "text"
      },
      "source": [
        "<a href=\"https://colab.research.google.com/github/areejatariq/Data-cleaning-and-visualization-using-pyspark-/blob/main/Assignment1_DSTT.ipynb\" target=\"_parent\"><img src=\"https://colab.research.google.com/assets/colab-badge.svg\" alt=\"Open In Colab\"/></a>"
      ]
    },
    {
      "cell_type": "code",
      "execution_count": null,
      "metadata": {
        "colab": {
          "base_uri": "https://localhost:8080/"
        },
        "id": "CPJqix7otBWy",
        "outputId": "f52f25e8-984e-4c6c-ced4-b247e38727f6"
      },
      "outputs": [
        {
          "output_type": "stream",
          "name": "stdout",
          "text": [
            "Looking in indexes: https://pypi.org/simple, https://us-python.pkg.dev/colab-wheels/public/simple/\n",
            "Collecting pyspark\n",
            "  Downloading pyspark-3.3.0.tar.gz (281.3 MB)\n",
            "\u001b[K     |████████████████████████████████| 281.3 MB 48 kB/s \n",
            "\u001b[?25hCollecting py4j==0.10.9.5\n",
            "  Downloading py4j-0.10.9.5-py2.py3-none-any.whl (199 kB)\n",
            "\u001b[K     |████████████████████████████████| 199 kB 57.1 MB/s \n",
            "\u001b[?25hBuilding wheels for collected packages: pyspark\n",
            "  Building wheel for pyspark (setup.py) ... \u001b[?25l\u001b[?25hdone\n",
            "  Created wheel for pyspark: filename=pyspark-3.3.0-py2.py3-none-any.whl size=281764026 sha256=e2f2857794baba6621f18390821cbe034523ba9b6f48524f826f53005ef94065\n",
            "  Stored in directory: /root/.cache/pip/wheels/7a/8e/1b/f73a52650d2e5f337708d9f6a1750d451a7349a867f928b885\n",
            "Successfully built pyspark\n",
            "Installing collected packages: py4j, pyspark\n",
            "Successfully installed py4j-0.10.9.5 pyspark-3.3.0\n"
          ]
        }
      ],
      "source": [
        "#installing the pyspark\n",
        "\n",
        "!pip install pyspark"
      ]
    },
    {
      "cell_type": "code",
      "source": [
        "\n",
        "#creating the pyspark session \n",
        "from pyspark.sql import SparkSession\n",
        "spark = SparkSession.builder\\\n",
        "        .master(\"local\")\\\n",
        "        .appName(\"Colab\")\\\n",
        "        .config('spark.ui.port', '4050')\\\n",
        "        .getOrCreate()"
      ],
      "metadata": {
        "id": "SB_wNhvDvCPv"
      },
      "execution_count": null,
      "outputs": []
    },
    {
      "cell_type": "code",
      "source": [
        "#checking if the pyspark session is working\n",
        "spark\n"
      ],
      "metadata": {
        "colab": {
          "base_uri": "https://localhost:8080/",
          "height": 219
        },
        "id": "rys85ql5vGJF",
        "outputId": "d5beb5a2-e3cc-4e35-e640-d3da3073b008"
      },
      "execution_count": null,
      "outputs": [
        {
          "output_type": "execute_result",
          "data": {
            "text/plain": [
              "<pyspark.sql.session.SparkSession at 0x7f45d339b6d0>"
            ],
            "text/html": [
              "\n",
              "            <div>\n",
              "                <p><b>SparkSession - in-memory</b></p>\n",
              "                \n",
              "        <div>\n",
              "            <p><b>SparkContext</b></p>\n",
              "\n",
              "            <p><a href=\"http://2b7cb6856b02:4050\">Spark UI</a></p>\n",
              "\n",
              "            <dl>\n",
              "              <dt>Version</dt>\n",
              "                <dd><code>v3.3.0</code></dd>\n",
              "              <dt>Master</dt>\n",
              "                <dd><code>local</code></dd>\n",
              "              <dt>AppName</dt>\n",
              "                <dd><code>Colab</code></dd>\n",
              "            </dl>\n",
              "        </div>\n",
              "        \n",
              "            </div>\n",
              "        "
            ]
          },
          "metadata": {},
          "execution_count": 3
        }
      ]
    },
    {
      "cell_type": "code",
      "source": [
        "# Reading the data from the directory\n",
        "df_bristol = spark.read.csv('/content/bristol-air-quality-data.csv', header=True,sep=\";\")\n"
      ],
      "metadata": {
        "id": "o6OeMjzuvJsL"
      },
      "execution_count": null,
      "outputs": []
    },
    {
      "cell_type": "code",
      "source": [
        "df_bristol.show(10)"
      ],
      "metadata": {
        "colab": {
          "base_uri": "https://localhost:8080/"
        },
        "id": "wfU4wTyuwOiV",
        "outputId": "a99bafe9-1a9d-49cf-a72d-0ae6d8eb4442"
      },
      "execution_count": null,
      "outputs": [
        {
          "output_type": "stream",
          "name": "stdout",
          "text": [
            "+--------------------+--------+--------+--------+------+----+------+-----+-------+------+------+----+--------+----+-----------+----+------------+--------------------+--------------------+--------------------+--------------------+-------+--------------------+\n",
            "|           Date Time|     NOx|     NO2|      NO|SiteID|PM10|NVPM10|VPM10|NVPM2.5| PM2.5|VPM2.5|  CO|      O3| SO2|Temperature|  RH|Air Pressure|            Location|        geo_point_2d|           DateStart|             DateEnd|Current|     Instrument Type|\n",
            "+--------------------+--------+--------+--------+------+----+------+-----+-------+------+------+----+--------+----+-----------+----+------------+--------------------+--------------------+--------------------+--------------------+-------+--------------------+\n",
            "|2013-08-23T07:00:...|51.54044|30.50055|13.72186|   452|27.8|  23.2|  4.6|   16.4|19.454|   2.9|null|20.40603|null|       null|null|        null|       AURN St Pauls|51.4628294172,-2....|2006-06-15T00:00:...|                null|   True|Continuous (Refer...|\n",
            "|2013-08-23T08:00:...|    94.5|   44.25|    33.0|   203|null|  null| null|   null|  null|  null|null|    null|null|       null|null|        null|   Brislington Depot|51.4417471802,-2....|2001-01-01T00:00:...|                null|   True|Continuous (Refer...|\n",
            "|2013-08-23T10:00:...|  242.75|   59.75|   119.5|   206|null|  null| null|   null|  null|  null|null|    null|null|       null|null|        null|       Rupert Street|51.4554331987,-2....|2003-01-01T00:00:...|2015-12-31T00:00:...|  False|Continuous (Refer...|\n",
            "|2013-08-23T14:00:...|  197.75|   73.25|   81.25|   270|null|  null| null|   null|  null|  null|null|    null|null|       null|null|        null|          Wells Road|51.4278638883,-2....|2003-05-23T00:00:...|                null|   True|Continuous (Refer...|\n",
            "|2013-08-23T18:00:...|    81.0|    55.5|    16.5|   203|null|  null| null|   null|  null|  null|null|    null|null|       null|null|        null|   Brislington Depot|51.4417471802,-2....|2001-01-01T00:00:...|                null|   True|Continuous (Refer...|\n",
            "|2013-08-23T18:00:...|46.65544|42.06448| 2.99414|   452|31.1|  26.5|  4.6|   19.7|24.595|   4.7|null|42.30884|null|       null|null|        null|       AURN St Pauls|51.4628294172,-2....|2006-06-15T00:00:...|                null|   True|Continuous (Refer...|\n",
            "|2013-08-23T19:00:...|   95.75|    65.5|   19.75|   215|null|  null| null|   null|  null|  null|null|    null|null|       null|null|        null|Parson Street School|51.432675707,-2.6...|2002-02-01T00:00:...|                null|   True|Continuous (Refer...|\n",
            "|2013-08-23T19:00:...|  116.25|    67.5|    32.0|   375|null|  null| null|   null|  null|  null|null|    null|null|       null|null|        null|Newfoundland Road...|51.4606738207,-2....|2005-01-01T00:00:...|2015-12-31T00:00:...|  False|Continuous (Refer...|\n",
            "|2013-08-23T20:00:...|   221.0|   63.75|   102.5|   206|null|  null| null|   null|  null|  null|null|    null|null|       null|null|        null|       Rupert Street|51.4554331987,-2....|2003-01-01T00:00:...|2015-12-31T00:00:...|  False|Continuous (Refer...|\n",
            "|2013-08-23T21:00:...|   127.0|    52.0|    49.0|   463|null|  null| null|   null|  null|  null|null|    null|null|       null|null|        null|      Fishponds Road|51.4780449714,-2....|2009-03-13T00:00:...|                null|   True|Continuous (Refer...|\n",
            "+--------------------+--------+--------+--------+------+----+------+-----+-------+------+------+----+--------+----+-----------+----+------------+--------------------+--------------------+--------------------+--------------------+-------+--------------------+\n",
            "only showing top 10 rows\n",
            "\n"
          ]
        }
      ]
    },
    {
      "cell_type": "code",
      "source": [
        "#taking the mean of the SO2 and than adding that average back into the column\n",
        "\n",
        "from pyspark.sql.functions import mean\n",
        "mean_val=df_bristol.select(mean(df_bristol.SO2)).collect()\n",
        "print(type(mean_val)) #mean_val is a list row object\n",
        "print('mean value of SO2', mean_val[0][0])\n",
        "mean_SO2=mean_val[0][0]\n",
        "\n",
        "#now using mean_SO2 value to fill the nulls in SO2 column\n",
        "df_bristol=df_bristol.na.fill(value='7.604697174',subset=['SO2'])"
      ],
      "metadata": {
        "colab": {
          "base_uri": "https://localhost:8080/"
        },
        "id": "b5iQmZ6ewuxp",
        "outputId": "6101a56e-65fc-4dfa-8052-2eb0d56a8816"
      },
      "execution_count": null,
      "outputs": [
        {
          "output_type": "stream",
          "name": "stdout",
          "text": [
            "<class 'list'>\n",
            "mean value of SO2 7.604697174396046\n"
          ]
        }
      ]
    },
    {
      "cell_type": "code",
      "source": [
        "df_bristol.show()"
      ],
      "metadata": {
        "colab": {
          "base_uri": "https://localhost:8080/"
        },
        "id": "34YcAI5XEDW5",
        "outputId": "a950ba95-5166-4f9e-f37d-19afac8deae6"
      },
      "execution_count": null,
      "outputs": [
        {
          "output_type": "stream",
          "name": "stdout",
          "text": [
            "+--------------------+--------+--------+--------+------+----+------+-----+-------+------+------+----+--------+-----------+-----------+----+------------+--------------------+--------------------+--------------------+--------------------+-------+--------------------+\n",
            "|           Date Time|     NOx|     NO2|      NO|SiteID|PM10|NVPM10|VPM10|NVPM2.5| PM2.5|VPM2.5|  CO|      O3|        SO2|Temperature|  RH|Air Pressure|            Location|        geo_point_2d|           DateStart|             DateEnd|Current|     Instrument Type|\n",
            "+--------------------+--------+--------+--------+------+----+------+-----+-------+------+------+----+--------+-----------+-----------+----+------------+--------------------+--------------------+--------------------+--------------------+-------+--------------------+\n",
            "|2013-08-23T07:00:...|51.54044|30.50055|13.72186|   452|27.8|  23.2|  4.6|   16.4|19.454|   2.9|null|20.40603|7.604697174|       null|null|        null|       AURN St Pauls|51.4628294172,-2....|2006-06-15T00:00:...|                null|   True|Continuous (Refer...|\n",
            "|2013-08-23T08:00:...|    94.5|   44.25|    33.0|   203|null|  null| null|   null|  null|  null|null|    null|7.604697174|       null|null|        null|   Brislington Depot|51.4417471802,-2....|2001-01-01T00:00:...|                null|   True|Continuous (Refer...|\n",
            "|2013-08-23T10:00:...|  242.75|   59.75|   119.5|   206|null|  null| null|   null|  null|  null|null|    null|7.604697174|       null|null|        null|       Rupert Street|51.4554331987,-2....|2003-01-01T00:00:...|2015-12-31T00:00:...|  False|Continuous (Refer...|\n",
            "|2013-08-23T14:00:...|  197.75|   73.25|   81.25|   270|null|  null| null|   null|  null|  null|null|    null|7.604697174|       null|null|        null|          Wells Road|51.4278638883,-2....|2003-05-23T00:00:...|                null|   True|Continuous (Refer...|\n",
            "|2013-08-23T18:00:...|    81.0|    55.5|    16.5|   203|null|  null| null|   null|  null|  null|null|    null|7.604697174|       null|null|        null|   Brislington Depot|51.4417471802,-2....|2001-01-01T00:00:...|                null|   True|Continuous (Refer...|\n",
            "|2013-08-23T18:00:...|46.65544|42.06448| 2.99414|   452|31.1|  26.5|  4.6|   19.7|24.595|   4.7|null|42.30884|7.604697174|       null|null|        null|       AURN St Pauls|51.4628294172,-2....|2006-06-15T00:00:...|                null|   True|Continuous (Refer...|\n",
            "|2013-08-23T19:00:...|   95.75|    65.5|   19.75|   215|null|  null| null|   null|  null|  null|null|    null|7.604697174|       null|null|        null|Parson Street School|51.432675707,-2.6...|2002-02-01T00:00:...|                null|   True|Continuous (Refer...|\n",
            "|2013-08-23T19:00:...|  116.25|    67.5|    32.0|   375|null|  null| null|   null|  null|  null|null|    null|7.604697174|       null|null|        null|Newfoundland Road...|51.4606738207,-2....|2005-01-01T00:00:...|2015-12-31T00:00:...|  False|Continuous (Refer...|\n",
            "|2013-08-23T20:00:...|   221.0|   63.75|   102.5|   206|null|  null| null|   null|  null|  null|null|    null|7.604697174|       null|null|        null|       Rupert Street|51.4554331987,-2....|2003-01-01T00:00:...|2015-12-31T00:00:...|  False|Continuous (Refer...|\n",
            "|2013-08-23T21:00:...|   127.0|    52.0|    49.0|   463|null|  null| null|   null|  null|  null|null|    null|7.604697174|       null|null|        null|      Fishponds Road|51.4780449714,-2....|2009-03-13T00:00:...|                null|   True|Continuous (Refer...|\n",
            "|2013-08-23T22:00:...|   64.25|    42.5|   14.25|   215|null|  null| null|   null|  null|  null|null|    null|7.604697174|       null|null|        null|Parson Street School|51.432675707,-2.6...|2002-02-01T00:00:...|                null|   True|Continuous (Refer...|\n",
            "|2013-08-23T22:00:...|32.00043|28.99493| 1.96013|   452|32.3|  20.9| 11.4|   16.2|25.603|   9.2|null|30.73378|7.604697174|       null|null|        null|       AURN St Pauls|51.4628294172,-2....|2006-06-15T00:00:...|                null|   True|Continuous (Refer...|\n",
            "|2013-08-24T01:00:...|   68.25|   42.75|   16.25|   375|null|  null| null|   null|  null|  null|null|    null|7.604697174|       null|null|        null|Newfoundland Road...|51.4606738207,-2....|2005-01-01T00:00:...|2015-12-31T00:00:...|  False|Continuous (Refer...|\n",
            "|2013-08-24T02:00:...|   31.75|    23.5|    5.25|   203|null|  null| null|   null|  null|  null|null|    null|7.604697174|       null|null|        null|   Brislington Depot|51.4417471802,-2....|2001-01-01T00:00:...|                null|   True|Continuous (Refer...|\n",
            "|2013-08-24T03:00:...|    23.5|   12.75|    6.75|   270|null|  null| null|   null|  null|  null|null|    null|7.604697174|       null|null|        null|          Wells Road|51.4278638883,-2....|2003-05-23T00:00:...|                null|   True|Continuous (Refer...|\n",
            "|2013-08-24T04:00:...|   39.75|    26.0|     9.0|   203|null|  null| null|   null|  null|  null|null|    null|7.604697174|       null|null|        null|   Brislington Depot|51.4417471802,-2....|2001-01-01T00:00:...|                null|   True|Continuous (Refer...|\n",
            "|2013-08-24T04:00:...|  106.75|   16.25|    59.0|   206|null|  null| null|   null|  null|  null|null|    null|7.604697174|       null|null|        null|       Rupert Street|51.4554331987,-2....|2003-01-01T00:00:...|2015-12-31T00:00:...|  False|Continuous (Refer...|\n",
            "|2013-08-24T04:00:...|22.65356|18.31745| 2.82794|   452|19.5|  16.1|  3.4|   10.5|14.314|   3.7|null|36.12217|7.604697174|       null|null|        null|       AURN St Pauls|51.4628294172,-2....|2006-06-15T00:00:...|                null|   True|Continuous (Refer...|\n",
            "|2013-08-24T06:00:...|    98.5|   67.25|    20.5|   215|null|  null| null|   null|  null|  null|null|    null|7.604697174|       null|null|        null|Parson Street School|51.432675707,-2.6...|2002-02-01T00:00:...|                null|   True|Continuous (Refer...|\n",
            "|2013-08-24T06:00:...|    54.5|    21.5|   21.25|   463|null|  null| null|   null|  null|  null|null|    null|7.604697174|       null|null|        null|      Fishponds Road|51.4780449714,-2....|2009-03-13T00:00:...|                null|   True|Continuous (Refer...|\n",
            "+--------------------+--------+--------+--------+------+----+------+-----+-------+------+------+----+--------+-----------+-----------+----+------------+--------------------+--------------------+--------------------+--------------------+-------+--------------------+\n",
            "only showing top 20 rows\n",
            "\n"
          ]
        }
      ]
    },
    {
      "cell_type": "code",
      "source": [
        "#taking the mean of the temperature and than adding that average back into the column\n",
        "\n",
        "from pyspark.sql.functions import mean\n",
        "mean_val_temp=df_bristol.select(mean(df_bristol.Temperature)).collect()\n",
        "print(type(mean_val_temp)) #mean_val_temp is a list row object\n",
        "print('mean value of Temperature', mean_val_temp[0][0])\n",
        "mean_temp=mean_val_temp[0][0]\n",
        "\n",
        "#now using mean_temp value to fill the nulls in temperature column\n",
        "df_bristol=df_bristol.na.fill(value=\"9.5137689\",subset=['Temperature'])"
      ],
      "metadata": {
        "colab": {
          "base_uri": "https://localhost:8080/"
        },
        "id": "2zVeGNYoC7QT",
        "outputId": "2ce6b81c-73d2-4e64-c708-bbfa69a9e3bf"
      },
      "execution_count": null,
      "outputs": [
        {
          "output_type": "stream",
          "name": "stdout",
          "text": [
            "<class 'list'>\n",
            "mean value of Temperature 9.513768979472026\n"
          ]
        }
      ]
    },
    {
      "cell_type": "code",
      "source": [
        "df_bristol.show()"
      ],
      "metadata": {
        "colab": {
          "base_uri": "https://localhost:8080/"
        },
        "id": "o2j8EFqUnRC2",
        "outputId": "1d2e303e-4fdb-4e16-c415-9057a74019ba"
      },
      "execution_count": null,
      "outputs": [
        {
          "output_type": "stream",
          "name": "stdout",
          "text": [
            "+--------------------+--------+--------+--------+------+----+------+-----+-------+------+------+----+--------+-----------+-----------+----+------------+--------------------+--------------------+--------------------+--------------------+-------+--------------------+\n",
            "|           Date Time|     NOx|     NO2|      NO|SiteID|PM10|NVPM10|VPM10|NVPM2.5| PM2.5|VPM2.5|  CO|      O3|        SO2|Temperature|  RH|Air Pressure|            Location|        geo_point_2d|           DateStart|             DateEnd|Current|     Instrument Type|\n",
            "+--------------------+--------+--------+--------+------+----+------+-----+-------+------+------+----+--------+-----------+-----------+----+------------+--------------------+--------------------+--------------------+--------------------+-------+--------------------+\n",
            "|2013-08-23T07:00:...|51.54044|30.50055|13.72186|   452|27.8|  23.2|  4.6|   16.4|19.454|   2.9|null|20.40603|7.604697174|  9.5137689|null|        null|       AURN St Pauls|51.4628294172,-2....|2006-06-15T00:00:...|                null|   True|Continuous (Refer...|\n",
            "|2013-08-23T08:00:...|    94.5|   44.25|    33.0|   203|null|  null| null|   null|  null|  null|null|    null|7.604697174|  9.5137689|null|        null|   Brislington Depot|51.4417471802,-2....|2001-01-01T00:00:...|                null|   True|Continuous (Refer...|\n",
            "|2013-08-23T10:00:...|  242.75|   59.75|   119.5|   206|null|  null| null|   null|  null|  null|null|    null|7.604697174|  9.5137689|null|        null|       Rupert Street|51.4554331987,-2....|2003-01-01T00:00:...|2015-12-31T00:00:...|  False|Continuous (Refer...|\n",
            "|2013-08-23T14:00:...|  197.75|   73.25|   81.25|   270|null|  null| null|   null|  null|  null|null|    null|7.604697174|  9.5137689|null|        null|          Wells Road|51.4278638883,-2....|2003-05-23T00:00:...|                null|   True|Continuous (Refer...|\n",
            "|2013-08-23T18:00:...|    81.0|    55.5|    16.5|   203|null|  null| null|   null|  null|  null|null|    null|7.604697174|  9.5137689|null|        null|   Brislington Depot|51.4417471802,-2....|2001-01-01T00:00:...|                null|   True|Continuous (Refer...|\n",
            "|2013-08-23T18:00:...|46.65544|42.06448| 2.99414|   452|31.1|  26.5|  4.6|   19.7|24.595|   4.7|null|42.30884|7.604697174|  9.5137689|null|        null|       AURN St Pauls|51.4628294172,-2....|2006-06-15T00:00:...|                null|   True|Continuous (Refer...|\n",
            "|2013-08-23T19:00:...|   95.75|    65.5|   19.75|   215|null|  null| null|   null|  null|  null|null|    null|7.604697174|  9.5137689|null|        null|Parson Street School|51.432675707,-2.6...|2002-02-01T00:00:...|                null|   True|Continuous (Refer...|\n",
            "|2013-08-23T19:00:...|  116.25|    67.5|    32.0|   375|null|  null| null|   null|  null|  null|null|    null|7.604697174|  9.5137689|null|        null|Newfoundland Road...|51.4606738207,-2....|2005-01-01T00:00:...|2015-12-31T00:00:...|  False|Continuous (Refer...|\n",
            "|2013-08-23T20:00:...|   221.0|   63.75|   102.5|   206|null|  null| null|   null|  null|  null|null|    null|7.604697174|  9.5137689|null|        null|       Rupert Street|51.4554331987,-2....|2003-01-01T00:00:...|2015-12-31T00:00:...|  False|Continuous (Refer...|\n",
            "|2013-08-23T21:00:...|   127.0|    52.0|    49.0|   463|null|  null| null|   null|  null|  null|null|    null|7.604697174|  9.5137689|null|        null|      Fishponds Road|51.4780449714,-2....|2009-03-13T00:00:...|                null|   True|Continuous (Refer...|\n",
            "|2013-08-23T22:00:...|   64.25|    42.5|   14.25|   215|null|  null| null|   null|  null|  null|null|    null|7.604697174|  9.5137689|null|        null|Parson Street School|51.432675707,-2.6...|2002-02-01T00:00:...|                null|   True|Continuous (Refer...|\n",
            "|2013-08-23T22:00:...|32.00043|28.99493| 1.96013|   452|32.3|  20.9| 11.4|   16.2|25.603|   9.2|null|30.73378|7.604697174|  9.5137689|null|        null|       AURN St Pauls|51.4628294172,-2....|2006-06-15T00:00:...|                null|   True|Continuous (Refer...|\n",
            "|2013-08-24T01:00:...|   68.25|   42.75|   16.25|   375|null|  null| null|   null|  null|  null|null|    null|7.604697174|  9.5137689|null|        null|Newfoundland Road...|51.4606738207,-2....|2005-01-01T00:00:...|2015-12-31T00:00:...|  False|Continuous (Refer...|\n",
            "|2013-08-24T02:00:...|   31.75|    23.5|    5.25|   203|null|  null| null|   null|  null|  null|null|    null|7.604697174|  9.5137689|null|        null|   Brislington Depot|51.4417471802,-2....|2001-01-01T00:00:...|                null|   True|Continuous (Refer...|\n",
            "|2013-08-24T03:00:...|    23.5|   12.75|    6.75|   270|null|  null| null|   null|  null|  null|null|    null|7.604697174|  9.5137689|null|        null|          Wells Road|51.4278638883,-2....|2003-05-23T00:00:...|                null|   True|Continuous (Refer...|\n",
            "|2013-08-24T04:00:...|   39.75|    26.0|     9.0|   203|null|  null| null|   null|  null|  null|null|    null|7.604697174|  9.5137689|null|        null|   Brislington Depot|51.4417471802,-2....|2001-01-01T00:00:...|                null|   True|Continuous (Refer...|\n",
            "|2013-08-24T04:00:...|  106.75|   16.25|    59.0|   206|null|  null| null|   null|  null|  null|null|    null|7.604697174|  9.5137689|null|        null|       Rupert Street|51.4554331987,-2....|2003-01-01T00:00:...|2015-12-31T00:00:...|  False|Continuous (Refer...|\n",
            "|2013-08-24T04:00:...|22.65356|18.31745| 2.82794|   452|19.5|  16.1|  3.4|   10.5|14.314|   3.7|null|36.12217|7.604697174|  9.5137689|null|        null|       AURN St Pauls|51.4628294172,-2....|2006-06-15T00:00:...|                null|   True|Continuous (Refer...|\n",
            "|2013-08-24T06:00:...|    98.5|   67.25|    20.5|   215|null|  null| null|   null|  null|  null|null|    null|7.604697174|  9.5137689|null|        null|Parson Street School|51.432675707,-2.6...|2002-02-01T00:00:...|                null|   True|Continuous (Refer...|\n",
            "|2013-08-24T06:00:...|    54.5|    21.5|   21.25|   463|null|  null| null|   null|  null|  null|null|    null|7.604697174|  9.5137689|null|        null|      Fishponds Road|51.4780449714,-2....|2009-03-13T00:00:...|                null|   True|Continuous (Refer...|\n",
            "+--------------------+--------+--------+--------+------+----+------+-----+-------+------+------+----+--------+-----------+-----------+----+------------+--------------------+--------------------+--------------------+--------------------+-------+--------------------+\n",
            "only showing top 20 rows\n",
            "\n"
          ]
        }
      ]
    },
    {
      "cell_type": "code",
      "source": [
        "#taking the mean of the PM2.5 and than adding that average back into the column\n",
        "\n",
        "from pyspark.sql.functions import mean\n",
        "\n",
        "# have to rename the column pm2.5 to pm2_5 because has a . in it \n",
        "\n",
        "df_bristol = df_bristol.withColumnRenamed('PM2.5', 'PM2_5')\n",
        "\n",
        "mean_val_pm=df_bristol.select(mean(df_bristol.PM2_5)).collect()\n",
        "print(type(mean_val_pm)) #mean_val_pm is a list row object\n",
        "print('mean value of PM2_5', mean_val_pm[0][0])\n",
        "mean_PM_2=mean_val_pm[0][0]\n",
        "\n",
        "#now using mean_temp value to fill the nulls in PM2_5 column\n",
        "df_bristol=df_bristol.na.fill(value=\"12.052908769\",subset=['PM2_5'])\n",
        "df_bristol.show()                  "
      ],
      "metadata": {
        "colab": {
          "base_uri": "https://localhost:8080/"
        },
        "id": "F9qPY8FyGRyj",
        "outputId": "5521ab3c-65e7-4675-88ac-e7715e226360"
      },
      "execution_count": null,
      "outputs": [
        {
          "output_type": "stream",
          "name": "stdout",
          "text": [
            "<class 'list'>\n",
            "mean value of PM2_5 12.052908769052758\n",
            "+--------------------+--------+--------+--------+------+----+------+-----+-------+------------+------+----+--------+-----------+-----------+----+------------+--------------------+--------------------+--------------------+--------------------+-------+--------------------+\n",
            "|           Date Time|     NOx|     NO2|      NO|SiteID|PM10|NVPM10|VPM10|NVPM2.5|       PM2_5|VPM2.5|  CO|      O3|        SO2|Temperature|  RH|Air Pressure|            Location|        geo_point_2d|           DateStart|             DateEnd|Current|     Instrument Type|\n",
            "+--------------------+--------+--------+--------+------+----+------+-----+-------+------------+------+----+--------+-----------+-----------+----+------------+--------------------+--------------------+--------------------+--------------------+-------+--------------------+\n",
            "|2013-08-23T07:00:...|51.54044|30.50055|13.72186|   452|27.8|  23.2|  4.6|   16.4|      19.454|   2.9|null|20.40603|7.604697174|  9.5137689|null|        null|       AURN St Pauls|51.4628294172,-2....|2006-06-15T00:00:...|                null|   True|Continuous (Refer...|\n",
            "|2013-08-23T08:00:...|    94.5|   44.25|    33.0|   203|null|  null| null|   null|12.052908769|  null|null|    null|7.604697174|  9.5137689|null|        null|   Brislington Depot|51.4417471802,-2....|2001-01-01T00:00:...|                null|   True|Continuous (Refer...|\n",
            "|2013-08-23T10:00:...|  242.75|   59.75|   119.5|   206|null|  null| null|   null|12.052908769|  null|null|    null|7.604697174|  9.5137689|null|        null|       Rupert Street|51.4554331987,-2....|2003-01-01T00:00:...|2015-12-31T00:00:...|  False|Continuous (Refer...|\n",
            "|2013-08-23T14:00:...|  197.75|   73.25|   81.25|   270|null|  null| null|   null|12.052908769|  null|null|    null|7.604697174|  9.5137689|null|        null|          Wells Road|51.4278638883,-2....|2003-05-23T00:00:...|                null|   True|Continuous (Refer...|\n",
            "|2013-08-23T18:00:...|    81.0|    55.5|    16.5|   203|null|  null| null|   null|12.052908769|  null|null|    null|7.604697174|  9.5137689|null|        null|   Brislington Depot|51.4417471802,-2....|2001-01-01T00:00:...|                null|   True|Continuous (Refer...|\n",
            "|2013-08-23T18:00:...|46.65544|42.06448| 2.99414|   452|31.1|  26.5|  4.6|   19.7|      24.595|   4.7|null|42.30884|7.604697174|  9.5137689|null|        null|       AURN St Pauls|51.4628294172,-2....|2006-06-15T00:00:...|                null|   True|Continuous (Refer...|\n",
            "|2013-08-23T19:00:...|   95.75|    65.5|   19.75|   215|null|  null| null|   null|12.052908769|  null|null|    null|7.604697174|  9.5137689|null|        null|Parson Street School|51.432675707,-2.6...|2002-02-01T00:00:...|                null|   True|Continuous (Refer...|\n",
            "|2013-08-23T19:00:...|  116.25|    67.5|    32.0|   375|null|  null| null|   null|12.052908769|  null|null|    null|7.604697174|  9.5137689|null|        null|Newfoundland Road...|51.4606738207,-2....|2005-01-01T00:00:...|2015-12-31T00:00:...|  False|Continuous (Refer...|\n",
            "|2013-08-23T20:00:...|   221.0|   63.75|   102.5|   206|null|  null| null|   null|12.052908769|  null|null|    null|7.604697174|  9.5137689|null|        null|       Rupert Street|51.4554331987,-2....|2003-01-01T00:00:...|2015-12-31T00:00:...|  False|Continuous (Refer...|\n",
            "|2013-08-23T21:00:...|   127.0|    52.0|    49.0|   463|null|  null| null|   null|12.052908769|  null|null|    null|7.604697174|  9.5137689|null|        null|      Fishponds Road|51.4780449714,-2....|2009-03-13T00:00:...|                null|   True|Continuous (Refer...|\n",
            "|2013-08-23T22:00:...|   64.25|    42.5|   14.25|   215|null|  null| null|   null|12.052908769|  null|null|    null|7.604697174|  9.5137689|null|        null|Parson Street School|51.432675707,-2.6...|2002-02-01T00:00:...|                null|   True|Continuous (Refer...|\n",
            "|2013-08-23T22:00:...|32.00043|28.99493| 1.96013|   452|32.3|  20.9| 11.4|   16.2|      25.603|   9.2|null|30.73378|7.604697174|  9.5137689|null|        null|       AURN St Pauls|51.4628294172,-2....|2006-06-15T00:00:...|                null|   True|Continuous (Refer...|\n",
            "|2013-08-24T01:00:...|   68.25|   42.75|   16.25|   375|null|  null| null|   null|12.052908769|  null|null|    null|7.604697174|  9.5137689|null|        null|Newfoundland Road...|51.4606738207,-2....|2005-01-01T00:00:...|2015-12-31T00:00:...|  False|Continuous (Refer...|\n",
            "|2013-08-24T02:00:...|   31.75|    23.5|    5.25|   203|null|  null| null|   null|12.052908769|  null|null|    null|7.604697174|  9.5137689|null|        null|   Brislington Depot|51.4417471802,-2....|2001-01-01T00:00:...|                null|   True|Continuous (Refer...|\n",
            "|2013-08-24T03:00:...|    23.5|   12.75|    6.75|   270|null|  null| null|   null|12.052908769|  null|null|    null|7.604697174|  9.5137689|null|        null|          Wells Road|51.4278638883,-2....|2003-05-23T00:00:...|                null|   True|Continuous (Refer...|\n",
            "|2013-08-24T04:00:...|   39.75|    26.0|     9.0|   203|null|  null| null|   null|12.052908769|  null|null|    null|7.604697174|  9.5137689|null|        null|   Brislington Depot|51.4417471802,-2....|2001-01-01T00:00:...|                null|   True|Continuous (Refer...|\n",
            "|2013-08-24T04:00:...|  106.75|   16.25|    59.0|   206|null|  null| null|   null|12.052908769|  null|null|    null|7.604697174|  9.5137689|null|        null|       Rupert Street|51.4554331987,-2....|2003-01-01T00:00:...|2015-12-31T00:00:...|  False|Continuous (Refer...|\n",
            "|2013-08-24T04:00:...|22.65356|18.31745| 2.82794|   452|19.5|  16.1|  3.4|   10.5|      14.314|   3.7|null|36.12217|7.604697174|  9.5137689|null|        null|       AURN St Pauls|51.4628294172,-2....|2006-06-15T00:00:...|                null|   True|Continuous (Refer...|\n",
            "|2013-08-24T06:00:...|    98.5|   67.25|    20.5|   215|null|  null| null|   null|12.052908769|  null|null|    null|7.604697174|  9.5137689|null|        null|Parson Street School|51.432675707,-2.6...|2002-02-01T00:00:...|                null|   True|Continuous (Refer...|\n",
            "|2013-08-24T06:00:...|    54.5|    21.5|   21.25|   463|null|  null| null|   null|12.052908769|  null|null|    null|7.604697174|  9.5137689|null|        null|      Fishponds Road|51.4780449714,-2....|2009-03-13T00:00:...|                null|   True|Continuous (Refer...|\n",
            "+--------------------+--------+--------+--------+------+----+------+-----+-------+------------+------+----+--------+-----------+-----------+----+------------+--------------------+--------------------+--------------------+--------------------+-------+--------------------+\n",
            "only showing top 20 rows\n",
            "\n"
          ]
        }
      ]
    },
    {
      "cell_type": "code",
      "source": [
        "#taking the mean of the NVPM2.5 and than adding that average back into the column\n",
        "\n",
        "from pyspark.sql.functions import mean\n",
        "\n",
        "# have to rename the column NVpm2.5 to NVpm2_5 because has a . in it \n",
        "\n",
        "df_bristol = df_bristol.withColumnRenamed('NVPM2.5', 'NVPM2_5')\n",
        "\n",
        "mean_val_nvpm=df_bristol.select(mean(df_bristol.NVPM2_5)).collect()\n",
        "print(type(mean_val_nvpm)) #mean_val_pm is a list row object\n",
        "print('mean value of NVPM2_5', mean_val_nvpm[0][0])\n",
        "mean_NVPM_2=mean_val_nvpm[0][0]\n",
        "\n",
        "#now using mean_temp value to fill the nulls in PM2_5 column\n",
        "df_bristol=df_bristol.na.fill(value=\"9.27125962\",subset=['NVPM2_5'])\n",
        "df_bristol.show()                                  "
      ],
      "metadata": {
        "colab": {
          "base_uri": "https://localhost:8080/"
        },
        "id": "BUSPQsmxxNVB",
        "outputId": "53ea5bba-d0f5-47b7-8dff-9f6d39fdaee8"
      },
      "execution_count": null,
      "outputs": [
        {
          "output_type": "stream",
          "name": "stdout",
          "text": [
            "<class 'list'>\n",
            "mean value of NVPM2_5 9.271259620096465\n",
            "+--------------------+--------+--------+--------+------+----+------+-----+----------+------------+------+----+--------+-----------+-----------+----+------------+--------------------+--------------------+--------------------+--------------------+-------+--------------------+\n",
            "|           Date Time|     NOx|     NO2|      NO|SiteID|PM10|NVPM10|VPM10|   NVPM2_5|       PM2_5|VPM2.5|  CO|      O3|        SO2|Temperature|  RH|Air Pressure|            Location|        geo_point_2d|           DateStart|             DateEnd|Current|     Instrument Type|\n",
            "+--------------------+--------+--------+--------+------+----+------+-----+----------+------------+------+----+--------+-----------+-----------+----+------------+--------------------+--------------------+--------------------+--------------------+-------+--------------------+\n",
            "|2013-08-23T07:00:...|51.54044|30.50055|13.72186|   452|27.8|  23.2|  4.6|      16.4|      19.454|   2.9|null|20.40603|7.604697174|  9.5137689|null|        null|       AURN St Pauls|51.4628294172,-2....|2006-06-15T00:00:...|                null|   True|Continuous (Refer...|\n",
            "|2013-08-23T08:00:...|    94.5|   44.25|    33.0|   203|null|  null| null|9.27125962|12.052908769|  null|null|    null|7.604697174|  9.5137689|null|        null|   Brislington Depot|51.4417471802,-2....|2001-01-01T00:00:...|                null|   True|Continuous (Refer...|\n",
            "|2013-08-23T10:00:...|  242.75|   59.75|   119.5|   206|null|  null| null|9.27125962|12.052908769|  null|null|    null|7.604697174|  9.5137689|null|        null|       Rupert Street|51.4554331987,-2....|2003-01-01T00:00:...|2015-12-31T00:00:...|  False|Continuous (Refer...|\n",
            "|2013-08-23T14:00:...|  197.75|   73.25|   81.25|   270|null|  null| null|9.27125962|12.052908769|  null|null|    null|7.604697174|  9.5137689|null|        null|          Wells Road|51.4278638883,-2....|2003-05-23T00:00:...|                null|   True|Continuous (Refer...|\n",
            "|2013-08-23T18:00:...|    81.0|    55.5|    16.5|   203|null|  null| null|9.27125962|12.052908769|  null|null|    null|7.604697174|  9.5137689|null|        null|   Brislington Depot|51.4417471802,-2....|2001-01-01T00:00:...|                null|   True|Continuous (Refer...|\n",
            "|2013-08-23T18:00:...|46.65544|42.06448| 2.99414|   452|31.1|  26.5|  4.6|      19.7|      24.595|   4.7|null|42.30884|7.604697174|  9.5137689|null|        null|       AURN St Pauls|51.4628294172,-2....|2006-06-15T00:00:...|                null|   True|Continuous (Refer...|\n",
            "|2013-08-23T19:00:...|   95.75|    65.5|   19.75|   215|null|  null| null|9.27125962|12.052908769|  null|null|    null|7.604697174|  9.5137689|null|        null|Parson Street School|51.432675707,-2.6...|2002-02-01T00:00:...|                null|   True|Continuous (Refer...|\n",
            "|2013-08-23T19:00:...|  116.25|    67.5|    32.0|   375|null|  null| null|9.27125962|12.052908769|  null|null|    null|7.604697174|  9.5137689|null|        null|Newfoundland Road...|51.4606738207,-2....|2005-01-01T00:00:...|2015-12-31T00:00:...|  False|Continuous (Refer...|\n",
            "|2013-08-23T20:00:...|   221.0|   63.75|   102.5|   206|null|  null| null|9.27125962|12.052908769|  null|null|    null|7.604697174|  9.5137689|null|        null|       Rupert Street|51.4554331987,-2....|2003-01-01T00:00:...|2015-12-31T00:00:...|  False|Continuous (Refer...|\n",
            "|2013-08-23T21:00:...|   127.0|    52.0|    49.0|   463|null|  null| null|9.27125962|12.052908769|  null|null|    null|7.604697174|  9.5137689|null|        null|      Fishponds Road|51.4780449714,-2....|2009-03-13T00:00:...|                null|   True|Continuous (Refer...|\n",
            "|2013-08-23T22:00:...|   64.25|    42.5|   14.25|   215|null|  null| null|9.27125962|12.052908769|  null|null|    null|7.604697174|  9.5137689|null|        null|Parson Street School|51.432675707,-2.6...|2002-02-01T00:00:...|                null|   True|Continuous (Refer...|\n",
            "|2013-08-23T22:00:...|32.00043|28.99493| 1.96013|   452|32.3|  20.9| 11.4|      16.2|      25.603|   9.2|null|30.73378|7.604697174|  9.5137689|null|        null|       AURN St Pauls|51.4628294172,-2....|2006-06-15T00:00:...|                null|   True|Continuous (Refer...|\n",
            "|2013-08-24T01:00:...|   68.25|   42.75|   16.25|   375|null|  null| null|9.27125962|12.052908769|  null|null|    null|7.604697174|  9.5137689|null|        null|Newfoundland Road...|51.4606738207,-2....|2005-01-01T00:00:...|2015-12-31T00:00:...|  False|Continuous (Refer...|\n",
            "|2013-08-24T02:00:...|   31.75|    23.5|    5.25|   203|null|  null| null|9.27125962|12.052908769|  null|null|    null|7.604697174|  9.5137689|null|        null|   Brislington Depot|51.4417471802,-2....|2001-01-01T00:00:...|                null|   True|Continuous (Refer...|\n",
            "|2013-08-24T03:00:...|    23.5|   12.75|    6.75|   270|null|  null| null|9.27125962|12.052908769|  null|null|    null|7.604697174|  9.5137689|null|        null|          Wells Road|51.4278638883,-2....|2003-05-23T00:00:...|                null|   True|Continuous (Refer...|\n",
            "|2013-08-24T04:00:...|   39.75|    26.0|     9.0|   203|null|  null| null|9.27125962|12.052908769|  null|null|    null|7.604697174|  9.5137689|null|        null|   Brislington Depot|51.4417471802,-2....|2001-01-01T00:00:...|                null|   True|Continuous (Refer...|\n",
            "|2013-08-24T04:00:...|  106.75|   16.25|    59.0|   206|null|  null| null|9.27125962|12.052908769|  null|null|    null|7.604697174|  9.5137689|null|        null|       Rupert Street|51.4554331987,-2....|2003-01-01T00:00:...|2015-12-31T00:00:...|  False|Continuous (Refer...|\n",
            "|2013-08-24T04:00:...|22.65356|18.31745| 2.82794|   452|19.5|  16.1|  3.4|      10.5|      14.314|   3.7|null|36.12217|7.604697174|  9.5137689|null|        null|       AURN St Pauls|51.4628294172,-2....|2006-06-15T00:00:...|                null|   True|Continuous (Refer...|\n",
            "|2013-08-24T06:00:...|    98.5|   67.25|    20.5|   215|null|  null| null|9.27125962|12.052908769|  null|null|    null|7.604697174|  9.5137689|null|        null|Parson Street School|51.432675707,-2.6...|2002-02-01T00:00:...|                null|   True|Continuous (Refer...|\n",
            "|2013-08-24T06:00:...|    54.5|    21.5|   21.25|   463|null|  null| null|9.27125962|12.052908769|  null|null|    null|7.604697174|  9.5137689|null|        null|      Fishponds Road|51.4780449714,-2....|2009-03-13T00:00:...|                null|   True|Continuous (Refer...|\n",
            "+--------------------+--------+--------+--------+------+----+------+-----+----------+------------+------+----+--------+-----------+-----------+----+------------+--------------------+--------------------+--------------------+--------------------+-------+--------------------+\n",
            "only showing top 20 rows\n",
            "\n"
          ]
        }
      ]
    },
    {
      "cell_type": "code",
      "source": [
        "#taking the mean of the VPM2.5 and than adding that average back into the column\n",
        "\n",
        "from pyspark.sql.functions import mean\n",
        "\n",
        "# have to rename the column NVpm2.5 to NVpm2_5 because has a . in it \n",
        "\n",
        "df_bristol = df_bristol.withColumnRenamed('VPM2.5', 'VPM2_5')\n",
        "   \n",
        "mean_val_vpm=df_bristol.select(mean(df_bristol.VPM2_5)).collect()\n",
        "print(type(mean_val_vpm)) #mean_val_vpm is a list row object\n",
        "print('mean value of VPM2_5', mean_val_vpm[0][0])\n",
        "mean_VPM_2=mean_val_vpm[0][0]\n",
        "                 \n",
        "#now using mean_temp value to fill the nulls in PM2_5 column\n",
        "df_bristol=df_bristol.na.fill(value=\"3.2491655\",subset=['VPM2_5'])\n",
        "df_bristol.show()    "
      ],
      "metadata": {
        "colab": {
          "base_uri": "https://localhost:8080/"
        },
        "id": "O_3itRBNt8Iy",
        "outputId": "8558b176-b75d-4cf2-96db-866ea996a6fd"
      },
      "execution_count": null,
      "outputs": [
        {
          "output_type": "stream",
          "name": "stdout",
          "text": [
            "<class 'list'>\n",
            "mean value of VPM2_5 3.2491655692868626\n",
            "+--------------------+--------+--------+--------+------+----+------+-----+----------+------------+---------+----+--------+-----------+-----------+----+------------+--------------------+--------------------+--------------------+--------------------+-------+--------------------+\n",
            "|           Date Time|     NOx|     NO2|      NO|SiteID|PM10|NVPM10|VPM10|   NVPM2_5|       PM2_5|   VPM2_5|  CO|      O3|        SO2|Temperature|  RH|Air Pressure|            Location|        geo_point_2d|           DateStart|             DateEnd|Current|     Instrument Type|\n",
            "+--------------------+--------+--------+--------+------+----+------+-----+----------+------------+---------+----+--------+-----------+-----------+----+------------+--------------------+--------------------+--------------------+--------------------+-------+--------------------+\n",
            "|2013-08-23T07:00:...|51.54044|30.50055|13.72186|   452|27.8|  23.2|  4.6|      16.4|      19.454|      2.9|null|20.40603|7.604697174|  9.5137689|null|        null|       AURN St Pauls|51.4628294172,-2....|2006-06-15T00:00:...|                null|   True|Continuous (Refer...|\n",
            "|2013-08-23T08:00:...|    94.5|   44.25|    33.0|   203|null|  null| null|9.27125962|12.052908769|3.2491655|null|    null|7.604697174|  9.5137689|null|        null|   Brislington Depot|51.4417471802,-2....|2001-01-01T00:00:...|                null|   True|Continuous (Refer...|\n",
            "|2013-08-23T10:00:...|  242.75|   59.75|   119.5|   206|null|  null| null|9.27125962|12.052908769|3.2491655|null|    null|7.604697174|  9.5137689|null|        null|       Rupert Street|51.4554331987,-2....|2003-01-01T00:00:...|2015-12-31T00:00:...|  False|Continuous (Refer...|\n",
            "|2013-08-23T14:00:...|  197.75|   73.25|   81.25|   270|null|  null| null|9.27125962|12.052908769|3.2491655|null|    null|7.604697174|  9.5137689|null|        null|          Wells Road|51.4278638883,-2....|2003-05-23T00:00:...|                null|   True|Continuous (Refer...|\n",
            "|2013-08-23T18:00:...|    81.0|    55.5|    16.5|   203|null|  null| null|9.27125962|12.052908769|3.2491655|null|    null|7.604697174|  9.5137689|null|        null|   Brislington Depot|51.4417471802,-2....|2001-01-01T00:00:...|                null|   True|Continuous (Refer...|\n",
            "|2013-08-23T18:00:...|46.65544|42.06448| 2.99414|   452|31.1|  26.5|  4.6|      19.7|      24.595|      4.7|null|42.30884|7.604697174|  9.5137689|null|        null|       AURN St Pauls|51.4628294172,-2....|2006-06-15T00:00:...|                null|   True|Continuous (Refer...|\n",
            "|2013-08-23T19:00:...|   95.75|    65.5|   19.75|   215|null|  null| null|9.27125962|12.052908769|3.2491655|null|    null|7.604697174|  9.5137689|null|        null|Parson Street School|51.432675707,-2.6...|2002-02-01T00:00:...|                null|   True|Continuous (Refer...|\n",
            "|2013-08-23T19:00:...|  116.25|    67.5|    32.0|   375|null|  null| null|9.27125962|12.052908769|3.2491655|null|    null|7.604697174|  9.5137689|null|        null|Newfoundland Road...|51.4606738207,-2....|2005-01-01T00:00:...|2015-12-31T00:00:...|  False|Continuous (Refer...|\n",
            "|2013-08-23T20:00:...|   221.0|   63.75|   102.5|   206|null|  null| null|9.27125962|12.052908769|3.2491655|null|    null|7.604697174|  9.5137689|null|        null|       Rupert Street|51.4554331987,-2....|2003-01-01T00:00:...|2015-12-31T00:00:...|  False|Continuous (Refer...|\n",
            "|2013-08-23T21:00:...|   127.0|    52.0|    49.0|   463|null|  null| null|9.27125962|12.052908769|3.2491655|null|    null|7.604697174|  9.5137689|null|        null|      Fishponds Road|51.4780449714,-2....|2009-03-13T00:00:...|                null|   True|Continuous (Refer...|\n",
            "|2013-08-23T22:00:...|   64.25|    42.5|   14.25|   215|null|  null| null|9.27125962|12.052908769|3.2491655|null|    null|7.604697174|  9.5137689|null|        null|Parson Street School|51.432675707,-2.6...|2002-02-01T00:00:...|                null|   True|Continuous (Refer...|\n",
            "|2013-08-23T22:00:...|32.00043|28.99493| 1.96013|   452|32.3|  20.9| 11.4|      16.2|      25.603|      9.2|null|30.73378|7.604697174|  9.5137689|null|        null|       AURN St Pauls|51.4628294172,-2....|2006-06-15T00:00:...|                null|   True|Continuous (Refer...|\n",
            "|2013-08-24T01:00:...|   68.25|   42.75|   16.25|   375|null|  null| null|9.27125962|12.052908769|3.2491655|null|    null|7.604697174|  9.5137689|null|        null|Newfoundland Road...|51.4606738207,-2....|2005-01-01T00:00:...|2015-12-31T00:00:...|  False|Continuous (Refer...|\n",
            "|2013-08-24T02:00:...|   31.75|    23.5|    5.25|   203|null|  null| null|9.27125962|12.052908769|3.2491655|null|    null|7.604697174|  9.5137689|null|        null|   Brislington Depot|51.4417471802,-2....|2001-01-01T00:00:...|                null|   True|Continuous (Refer...|\n",
            "|2013-08-24T03:00:...|    23.5|   12.75|    6.75|   270|null|  null| null|9.27125962|12.052908769|3.2491655|null|    null|7.604697174|  9.5137689|null|        null|          Wells Road|51.4278638883,-2....|2003-05-23T00:00:...|                null|   True|Continuous (Refer...|\n",
            "|2013-08-24T04:00:...|   39.75|    26.0|     9.0|   203|null|  null| null|9.27125962|12.052908769|3.2491655|null|    null|7.604697174|  9.5137689|null|        null|   Brislington Depot|51.4417471802,-2....|2001-01-01T00:00:...|                null|   True|Continuous (Refer...|\n",
            "|2013-08-24T04:00:...|  106.75|   16.25|    59.0|   206|null|  null| null|9.27125962|12.052908769|3.2491655|null|    null|7.604697174|  9.5137689|null|        null|       Rupert Street|51.4554331987,-2....|2003-01-01T00:00:...|2015-12-31T00:00:...|  False|Continuous (Refer...|\n",
            "|2013-08-24T04:00:...|22.65356|18.31745| 2.82794|   452|19.5|  16.1|  3.4|      10.5|      14.314|      3.7|null|36.12217|7.604697174|  9.5137689|null|        null|       AURN St Pauls|51.4628294172,-2....|2006-06-15T00:00:...|                null|   True|Continuous (Refer...|\n",
            "|2013-08-24T06:00:...|    98.5|   67.25|    20.5|   215|null|  null| null|9.27125962|12.052908769|3.2491655|null|    null|7.604697174|  9.5137689|null|        null|Parson Street School|51.432675707,-2.6...|2002-02-01T00:00:...|                null|   True|Continuous (Refer...|\n",
            "|2013-08-24T06:00:...|    54.5|    21.5|   21.25|   463|null|  null| null|9.27125962|12.052908769|3.2491655|null|    null|7.604697174|  9.5137689|null|        null|      Fishponds Road|51.4780449714,-2....|2009-03-13T00:00:...|                null|   True|Continuous (Refer...|\n",
            "+--------------------+--------+--------+--------+------+----+------+-----+----------+------------+---------+----+--------+-----------+-----------+----+------------+--------------------+--------------------+--------------------+--------------------+-------+--------------------+\n",
            "only showing top 20 rows\n",
            "\n"
          ]
        }
      ]
    },
    {
      "cell_type": "code",
      "source": [
        "#taking the mean of the 03 and than adding that average back into the column\n",
        "\n",
        "from pyspark.sql.functions import mean\n",
        "\n",
        "   \n",
        "mean_val_O3=df_bristol.select(mean(df_bristol.O3)).collect()\n",
        "print(type(mean_val_O3)) #mean_val_O3 is a list row object\n",
        "print('mean value of O3', mean_val_O3[0][0])\n",
        "mean_val_O3=mean_val_O3[0][0]\n",
        "                 \n",
        " #now using mean_temp value to fill the nulls in PM2_5 column\n",
        "df_bristol=df_bristol.na.fill(value=\"40.65212\",subset=['O3'])\n",
        "df_bristol.show()   "
      ],
      "metadata": {
        "colab": {
          "base_uri": "https://localhost:8080/"
        },
        "id": "pPnCxL_vySnN",
        "outputId": "dc934ac8-ea1c-487d-cb84-664abdbc9361"
      },
      "execution_count": null,
      "outputs": [
        {
          "output_type": "stream",
          "name": "stdout",
          "text": [
            "<class 'list'>\n",
            "mean value of O3 40.652129972769764\n",
            "+--------------------+--------+--------+--------+------+----+------+-----+----------+------------+---------+----+--------+-----------+-----------+----+------------+--------------------+--------------------+--------------------+--------------------+-------+--------------------+\n",
            "|           Date Time|     NOx|     NO2|      NO|SiteID|PM10|NVPM10|VPM10|   NVPM2_5|       PM2_5|   VPM2_5|  CO|      O3|        SO2|Temperature|  RH|Air Pressure|            Location|        geo_point_2d|           DateStart|             DateEnd|Current|     Instrument Type|\n",
            "+--------------------+--------+--------+--------+------+----+------+-----+----------+------------+---------+----+--------+-----------+-----------+----+------------+--------------------+--------------------+--------------------+--------------------+-------+--------------------+\n",
            "|2013-08-23T07:00:...|51.54044|30.50055|13.72186|   452|27.8|  23.2|  4.6|      16.4|      19.454|      2.9|null|20.40603|7.604697174|  9.5137689|null|        null|       AURN St Pauls|51.4628294172,-2....|2006-06-15T00:00:...|                null|   True|Continuous (Refer...|\n",
            "|2013-08-23T08:00:...|    94.5|   44.25|    33.0|   203|null|  null| null|9.27125962|12.052908769|3.2491655|null|40.65212|7.604697174|  9.5137689|null|        null|   Brislington Depot|51.4417471802,-2....|2001-01-01T00:00:...|                null|   True|Continuous (Refer...|\n",
            "|2013-08-23T10:00:...|  242.75|   59.75|   119.5|   206|null|  null| null|9.27125962|12.052908769|3.2491655|null|40.65212|7.604697174|  9.5137689|null|        null|       Rupert Street|51.4554331987,-2....|2003-01-01T00:00:...|2015-12-31T00:00:...|  False|Continuous (Refer...|\n",
            "|2013-08-23T14:00:...|  197.75|   73.25|   81.25|   270|null|  null| null|9.27125962|12.052908769|3.2491655|null|40.65212|7.604697174|  9.5137689|null|        null|          Wells Road|51.4278638883,-2....|2003-05-23T00:00:...|                null|   True|Continuous (Refer...|\n",
            "|2013-08-23T18:00:...|    81.0|    55.5|    16.5|   203|null|  null| null|9.27125962|12.052908769|3.2491655|null|40.65212|7.604697174|  9.5137689|null|        null|   Brislington Depot|51.4417471802,-2....|2001-01-01T00:00:...|                null|   True|Continuous (Refer...|\n",
            "|2013-08-23T18:00:...|46.65544|42.06448| 2.99414|   452|31.1|  26.5|  4.6|      19.7|      24.595|      4.7|null|42.30884|7.604697174|  9.5137689|null|        null|       AURN St Pauls|51.4628294172,-2....|2006-06-15T00:00:...|                null|   True|Continuous (Refer...|\n",
            "|2013-08-23T19:00:...|   95.75|    65.5|   19.75|   215|null|  null| null|9.27125962|12.052908769|3.2491655|null|40.65212|7.604697174|  9.5137689|null|        null|Parson Street School|51.432675707,-2.6...|2002-02-01T00:00:...|                null|   True|Continuous (Refer...|\n",
            "|2013-08-23T19:00:...|  116.25|    67.5|    32.0|   375|null|  null| null|9.27125962|12.052908769|3.2491655|null|40.65212|7.604697174|  9.5137689|null|        null|Newfoundland Road...|51.4606738207,-2....|2005-01-01T00:00:...|2015-12-31T00:00:...|  False|Continuous (Refer...|\n",
            "|2013-08-23T20:00:...|   221.0|   63.75|   102.5|   206|null|  null| null|9.27125962|12.052908769|3.2491655|null|40.65212|7.604697174|  9.5137689|null|        null|       Rupert Street|51.4554331987,-2....|2003-01-01T00:00:...|2015-12-31T00:00:...|  False|Continuous (Refer...|\n",
            "|2013-08-23T21:00:...|   127.0|    52.0|    49.0|   463|null|  null| null|9.27125962|12.052908769|3.2491655|null|40.65212|7.604697174|  9.5137689|null|        null|      Fishponds Road|51.4780449714,-2....|2009-03-13T00:00:...|                null|   True|Continuous (Refer...|\n",
            "|2013-08-23T22:00:...|   64.25|    42.5|   14.25|   215|null|  null| null|9.27125962|12.052908769|3.2491655|null|40.65212|7.604697174|  9.5137689|null|        null|Parson Street School|51.432675707,-2.6...|2002-02-01T00:00:...|                null|   True|Continuous (Refer...|\n",
            "|2013-08-23T22:00:...|32.00043|28.99493| 1.96013|   452|32.3|  20.9| 11.4|      16.2|      25.603|      9.2|null|30.73378|7.604697174|  9.5137689|null|        null|       AURN St Pauls|51.4628294172,-2....|2006-06-15T00:00:...|                null|   True|Continuous (Refer...|\n",
            "|2013-08-24T01:00:...|   68.25|   42.75|   16.25|   375|null|  null| null|9.27125962|12.052908769|3.2491655|null|40.65212|7.604697174|  9.5137689|null|        null|Newfoundland Road...|51.4606738207,-2....|2005-01-01T00:00:...|2015-12-31T00:00:...|  False|Continuous (Refer...|\n",
            "|2013-08-24T02:00:...|   31.75|    23.5|    5.25|   203|null|  null| null|9.27125962|12.052908769|3.2491655|null|40.65212|7.604697174|  9.5137689|null|        null|   Brislington Depot|51.4417471802,-2....|2001-01-01T00:00:...|                null|   True|Continuous (Refer...|\n",
            "|2013-08-24T03:00:...|    23.5|   12.75|    6.75|   270|null|  null| null|9.27125962|12.052908769|3.2491655|null|40.65212|7.604697174|  9.5137689|null|        null|          Wells Road|51.4278638883,-2....|2003-05-23T00:00:...|                null|   True|Continuous (Refer...|\n",
            "|2013-08-24T04:00:...|   39.75|    26.0|     9.0|   203|null|  null| null|9.27125962|12.052908769|3.2491655|null|40.65212|7.604697174|  9.5137689|null|        null|   Brislington Depot|51.4417471802,-2....|2001-01-01T00:00:...|                null|   True|Continuous (Refer...|\n",
            "|2013-08-24T04:00:...|  106.75|   16.25|    59.0|   206|null|  null| null|9.27125962|12.052908769|3.2491655|null|40.65212|7.604697174|  9.5137689|null|        null|       Rupert Street|51.4554331987,-2....|2003-01-01T00:00:...|2015-12-31T00:00:...|  False|Continuous (Refer...|\n",
            "|2013-08-24T04:00:...|22.65356|18.31745| 2.82794|   452|19.5|  16.1|  3.4|      10.5|      14.314|      3.7|null|36.12217|7.604697174|  9.5137689|null|        null|       AURN St Pauls|51.4628294172,-2....|2006-06-15T00:00:...|                null|   True|Continuous (Refer...|\n",
            "|2013-08-24T06:00:...|    98.5|   67.25|    20.5|   215|null|  null| null|9.27125962|12.052908769|3.2491655|null|40.65212|7.604697174|  9.5137689|null|        null|Parson Street School|51.432675707,-2.6...|2002-02-01T00:00:...|                null|   True|Continuous (Refer...|\n",
            "|2013-08-24T06:00:...|    54.5|    21.5|   21.25|   463|null|  null| null|9.27125962|12.052908769|3.2491655|null|40.65212|7.604697174|  9.5137689|null|        null|      Fishponds Road|51.4780449714,-2....|2009-03-13T00:00:...|                null|   True|Continuous (Refer...|\n",
            "+--------------------+--------+--------+--------+------+----+------+-----+----------+------------+---------+----+--------+-----------+-----------+----+------------+--------------------+--------------------+--------------------+--------------------+-------+--------------------+\n",
            "only showing top 20 rows\n",
            "\n"
          ]
        }
      ]
    },
    {
      "cell_type": "code",
      "source": [
        "#taking the mean of the NVPM10 and than adding that average back into the column\n",
        "\n",
        "from pyspark.sql.functions import mean\n",
        "\n",
        "   \n",
        "mean_val_NVPM10=df_bristol.select(mean(df_bristol.NVPM10)).collect()\n",
        "print(type(mean_val_NVPM10)) #mean_val_NVPM10 is a list row object\n",
        "print('mean value of NVPM10', mean_val_NVPM10[0][0])\n",
        "mean_val_NVPM10=mean_val_NVPM10[0][0]\n",
        "                 \n",
        " #now using mean_temp value to fill the nulls in PM2_5 column\n",
        "df_bristol=df_bristol.na.fill(value=\"14.62690601\",subset=['NVPM10'])\n",
        "df_bristol.show()"
      ],
      "metadata": {
        "colab": {
          "base_uri": "https://localhost:8080/"
        },
        "id": "AhWg-oPbzE_v",
        "outputId": "aa30c7b1-8b9a-4daa-d78f-015095fbbfc5"
      },
      "execution_count": null,
      "outputs": [
        {
          "output_type": "stream",
          "name": "stdout",
          "text": [
            "<class 'list'>\n",
            "mean value of NVPM10 14.62690601811944\n",
            "+--------------------+--------+--------+--------+------+----+-----------+-----+----------+------------+---------+----+--------+-----------+-----------+----+------------+--------------------+--------------------+--------------------+--------------------+-------+--------------------+\n",
            "|           Date Time|     NOx|     NO2|      NO|SiteID|PM10|     NVPM10|VPM10|   NVPM2_5|       PM2_5|   VPM2_5|  CO|      O3|        SO2|Temperature|  RH|Air Pressure|            Location|        geo_point_2d|           DateStart|             DateEnd|Current|     Instrument Type|\n",
            "+--------------------+--------+--------+--------+------+----+-----------+-----+----------+------------+---------+----+--------+-----------+-----------+----+------------+--------------------+--------------------+--------------------+--------------------+-------+--------------------+\n",
            "|2013-08-23T07:00:...|51.54044|30.50055|13.72186|   452|27.8|       23.2|  4.6|      16.4|      19.454|      2.9|null|20.40603|7.604697174|  9.5137689|null|        null|       AURN St Pauls|51.4628294172,-2....|2006-06-15T00:00:...|                null|   True|Continuous (Refer...|\n",
            "|2013-08-23T08:00:...|    94.5|   44.25|    33.0|   203|null|14.62690601| null|9.27125962|12.052908769|3.2491655|null|40.65212|7.604697174|  9.5137689|null|        null|   Brislington Depot|51.4417471802,-2....|2001-01-01T00:00:...|                null|   True|Continuous (Refer...|\n",
            "|2013-08-23T10:00:...|  242.75|   59.75|   119.5|   206|null|14.62690601| null|9.27125962|12.052908769|3.2491655|null|40.65212|7.604697174|  9.5137689|null|        null|       Rupert Street|51.4554331987,-2....|2003-01-01T00:00:...|2015-12-31T00:00:...|  False|Continuous (Refer...|\n",
            "|2013-08-23T14:00:...|  197.75|   73.25|   81.25|   270|null|14.62690601| null|9.27125962|12.052908769|3.2491655|null|40.65212|7.604697174|  9.5137689|null|        null|          Wells Road|51.4278638883,-2....|2003-05-23T00:00:...|                null|   True|Continuous (Refer...|\n",
            "|2013-08-23T18:00:...|    81.0|    55.5|    16.5|   203|null|14.62690601| null|9.27125962|12.052908769|3.2491655|null|40.65212|7.604697174|  9.5137689|null|        null|   Brislington Depot|51.4417471802,-2....|2001-01-01T00:00:...|                null|   True|Continuous (Refer...|\n",
            "|2013-08-23T18:00:...|46.65544|42.06448| 2.99414|   452|31.1|       26.5|  4.6|      19.7|      24.595|      4.7|null|42.30884|7.604697174|  9.5137689|null|        null|       AURN St Pauls|51.4628294172,-2....|2006-06-15T00:00:...|                null|   True|Continuous (Refer...|\n",
            "|2013-08-23T19:00:...|   95.75|    65.5|   19.75|   215|null|14.62690601| null|9.27125962|12.052908769|3.2491655|null|40.65212|7.604697174|  9.5137689|null|        null|Parson Street School|51.432675707,-2.6...|2002-02-01T00:00:...|                null|   True|Continuous (Refer...|\n",
            "|2013-08-23T19:00:...|  116.25|    67.5|    32.0|   375|null|14.62690601| null|9.27125962|12.052908769|3.2491655|null|40.65212|7.604697174|  9.5137689|null|        null|Newfoundland Road...|51.4606738207,-2....|2005-01-01T00:00:...|2015-12-31T00:00:...|  False|Continuous (Refer...|\n",
            "|2013-08-23T20:00:...|   221.0|   63.75|   102.5|   206|null|14.62690601| null|9.27125962|12.052908769|3.2491655|null|40.65212|7.604697174|  9.5137689|null|        null|       Rupert Street|51.4554331987,-2....|2003-01-01T00:00:...|2015-12-31T00:00:...|  False|Continuous (Refer...|\n",
            "|2013-08-23T21:00:...|   127.0|    52.0|    49.0|   463|null|14.62690601| null|9.27125962|12.052908769|3.2491655|null|40.65212|7.604697174|  9.5137689|null|        null|      Fishponds Road|51.4780449714,-2....|2009-03-13T00:00:...|                null|   True|Continuous (Refer...|\n",
            "|2013-08-23T22:00:...|   64.25|    42.5|   14.25|   215|null|14.62690601| null|9.27125962|12.052908769|3.2491655|null|40.65212|7.604697174|  9.5137689|null|        null|Parson Street School|51.432675707,-2.6...|2002-02-01T00:00:...|                null|   True|Continuous (Refer...|\n",
            "|2013-08-23T22:00:...|32.00043|28.99493| 1.96013|   452|32.3|       20.9| 11.4|      16.2|      25.603|      9.2|null|30.73378|7.604697174|  9.5137689|null|        null|       AURN St Pauls|51.4628294172,-2....|2006-06-15T00:00:...|                null|   True|Continuous (Refer...|\n",
            "|2013-08-24T01:00:...|   68.25|   42.75|   16.25|   375|null|14.62690601| null|9.27125962|12.052908769|3.2491655|null|40.65212|7.604697174|  9.5137689|null|        null|Newfoundland Road...|51.4606738207,-2....|2005-01-01T00:00:...|2015-12-31T00:00:...|  False|Continuous (Refer...|\n",
            "|2013-08-24T02:00:...|   31.75|    23.5|    5.25|   203|null|14.62690601| null|9.27125962|12.052908769|3.2491655|null|40.65212|7.604697174|  9.5137689|null|        null|   Brislington Depot|51.4417471802,-2....|2001-01-01T00:00:...|                null|   True|Continuous (Refer...|\n",
            "|2013-08-24T03:00:...|    23.5|   12.75|    6.75|   270|null|14.62690601| null|9.27125962|12.052908769|3.2491655|null|40.65212|7.604697174|  9.5137689|null|        null|          Wells Road|51.4278638883,-2....|2003-05-23T00:00:...|                null|   True|Continuous (Refer...|\n",
            "|2013-08-24T04:00:...|   39.75|    26.0|     9.0|   203|null|14.62690601| null|9.27125962|12.052908769|3.2491655|null|40.65212|7.604697174|  9.5137689|null|        null|   Brislington Depot|51.4417471802,-2....|2001-01-01T00:00:...|                null|   True|Continuous (Refer...|\n",
            "|2013-08-24T04:00:...|  106.75|   16.25|    59.0|   206|null|14.62690601| null|9.27125962|12.052908769|3.2491655|null|40.65212|7.604697174|  9.5137689|null|        null|       Rupert Street|51.4554331987,-2....|2003-01-01T00:00:...|2015-12-31T00:00:...|  False|Continuous (Refer...|\n",
            "|2013-08-24T04:00:...|22.65356|18.31745| 2.82794|   452|19.5|       16.1|  3.4|      10.5|      14.314|      3.7|null|36.12217|7.604697174|  9.5137689|null|        null|       AURN St Pauls|51.4628294172,-2....|2006-06-15T00:00:...|                null|   True|Continuous (Refer...|\n",
            "|2013-08-24T06:00:...|    98.5|   67.25|    20.5|   215|null|14.62690601| null|9.27125962|12.052908769|3.2491655|null|40.65212|7.604697174|  9.5137689|null|        null|Parson Street School|51.432675707,-2.6...|2002-02-01T00:00:...|                null|   True|Continuous (Refer...|\n",
            "|2013-08-24T06:00:...|    54.5|    21.5|   21.25|   463|null|14.62690601| null|9.27125962|12.052908769|3.2491655|null|40.65212|7.604697174|  9.5137689|null|        null|      Fishponds Road|51.4780449714,-2....|2009-03-13T00:00:...|                null|   True|Continuous (Refer...|\n",
            "+--------------------+--------+--------+--------+------+----+-----------+-----+----------+------------+---------+----+--------+-----------+-----------+----+------------+--------------------+--------------------+--------------------+--------------------+-------+--------------------+\n",
            "only showing top 20 rows\n",
            "\n"
          ]
        }
      ]
    },
    {
      "cell_type": "code",
      "source": [
        "from pyspark.sql.functions import mean\n",
        "\n",
        "   \n",
        "mean_val_PM10=df_bristol.select(mean(df_bristol.PM10)).collect()\n",
        "print(type(mean_val_PM10)) #mean_val_PM10 is a list row object\n",
        "print('mean value of PM10', mean_val_PM10[0][0])\n",
        "mean_val_PM10=mean_val_PM10[0][0]\n",
        "                 \n",
        " #now using mean_temp value to fill the nulls in PM2_5 column\n",
        "df_bristol=df_bristol.na.fill(value=\"22.2230\",subset=['PM10'])\n",
        "df_bristol.show()"
      ],
      "metadata": {
        "colab": {
          "base_uri": "https://localhost:8080/"
        },
        "id": "gjCizSeN6v3j",
        "outputId": "d10ed642-b12a-4e76-e986-24c28112c3ca"
      },
      "execution_count": null,
      "outputs": [
        {
          "output_type": "stream",
          "name": "stdout",
          "text": [
            "<class 'list'>\n",
            "mean value of PM10 22.22305344257434\n",
            "+--------------------+--------+--------+--------+------+-------+-----------+-----+----------+------------+---------+----+--------+-----------+-----------+----+------------+--------------------+--------------------+--------------------+--------------------+-------+--------------------+\n",
            "|           Date Time|     NOx|     NO2|      NO|SiteID|   PM10|     NVPM10|VPM10|   NVPM2_5|       PM2_5|   VPM2_5|  CO|      O3|        SO2|Temperature|  RH|Air Pressure|            Location|        geo_point_2d|           DateStart|             DateEnd|Current|     Instrument Type|\n",
            "+--------------------+--------+--------+--------+------+-------+-----------+-----+----------+------------+---------+----+--------+-----------+-----------+----+------------+--------------------+--------------------+--------------------+--------------------+-------+--------------------+\n",
            "|2013-08-23T07:00:...|51.54044|30.50055|13.72186|   452|   27.8|       23.2|  4.6|      16.4|      19.454|      2.9|null|20.40603|7.604697174|  9.5137689|null|        null|       AURN St Pauls|51.4628294172,-2....|2006-06-15T00:00:...|                null|   True|Continuous (Refer...|\n",
            "|2013-08-23T08:00:...|    94.5|   44.25|    33.0|   203|22.2230|14.62690601| null|9.27125962|12.052908769|3.2491655|null|40.65212|7.604697174|  9.5137689|null|        null|   Brislington Depot|51.4417471802,-2....|2001-01-01T00:00:...|                null|   True|Continuous (Refer...|\n",
            "|2013-08-23T10:00:...|  242.75|   59.75|   119.5|   206|22.2230|14.62690601| null|9.27125962|12.052908769|3.2491655|null|40.65212|7.604697174|  9.5137689|null|        null|       Rupert Street|51.4554331987,-2....|2003-01-01T00:00:...|2015-12-31T00:00:...|  False|Continuous (Refer...|\n",
            "|2013-08-23T14:00:...|  197.75|   73.25|   81.25|   270|22.2230|14.62690601| null|9.27125962|12.052908769|3.2491655|null|40.65212|7.604697174|  9.5137689|null|        null|          Wells Road|51.4278638883,-2....|2003-05-23T00:00:...|                null|   True|Continuous (Refer...|\n",
            "|2013-08-23T18:00:...|    81.0|    55.5|    16.5|   203|22.2230|14.62690601| null|9.27125962|12.052908769|3.2491655|null|40.65212|7.604697174|  9.5137689|null|        null|   Brislington Depot|51.4417471802,-2....|2001-01-01T00:00:...|                null|   True|Continuous (Refer...|\n",
            "|2013-08-23T18:00:...|46.65544|42.06448| 2.99414|   452|   31.1|       26.5|  4.6|      19.7|      24.595|      4.7|null|42.30884|7.604697174|  9.5137689|null|        null|       AURN St Pauls|51.4628294172,-2....|2006-06-15T00:00:...|                null|   True|Continuous (Refer...|\n",
            "|2013-08-23T19:00:...|   95.75|    65.5|   19.75|   215|22.2230|14.62690601| null|9.27125962|12.052908769|3.2491655|null|40.65212|7.604697174|  9.5137689|null|        null|Parson Street School|51.432675707,-2.6...|2002-02-01T00:00:...|                null|   True|Continuous (Refer...|\n",
            "|2013-08-23T19:00:...|  116.25|    67.5|    32.0|   375|22.2230|14.62690601| null|9.27125962|12.052908769|3.2491655|null|40.65212|7.604697174|  9.5137689|null|        null|Newfoundland Road...|51.4606738207,-2....|2005-01-01T00:00:...|2015-12-31T00:00:...|  False|Continuous (Refer...|\n",
            "|2013-08-23T20:00:...|   221.0|   63.75|   102.5|   206|22.2230|14.62690601| null|9.27125962|12.052908769|3.2491655|null|40.65212|7.604697174|  9.5137689|null|        null|       Rupert Street|51.4554331987,-2....|2003-01-01T00:00:...|2015-12-31T00:00:...|  False|Continuous (Refer...|\n",
            "|2013-08-23T21:00:...|   127.0|    52.0|    49.0|   463|22.2230|14.62690601| null|9.27125962|12.052908769|3.2491655|null|40.65212|7.604697174|  9.5137689|null|        null|      Fishponds Road|51.4780449714,-2....|2009-03-13T00:00:...|                null|   True|Continuous (Refer...|\n",
            "|2013-08-23T22:00:...|   64.25|    42.5|   14.25|   215|22.2230|14.62690601| null|9.27125962|12.052908769|3.2491655|null|40.65212|7.604697174|  9.5137689|null|        null|Parson Street School|51.432675707,-2.6...|2002-02-01T00:00:...|                null|   True|Continuous (Refer...|\n",
            "|2013-08-23T22:00:...|32.00043|28.99493| 1.96013|   452|   32.3|       20.9| 11.4|      16.2|      25.603|      9.2|null|30.73378|7.604697174|  9.5137689|null|        null|       AURN St Pauls|51.4628294172,-2....|2006-06-15T00:00:...|                null|   True|Continuous (Refer...|\n",
            "|2013-08-24T01:00:...|   68.25|   42.75|   16.25|   375|22.2230|14.62690601| null|9.27125962|12.052908769|3.2491655|null|40.65212|7.604697174|  9.5137689|null|        null|Newfoundland Road...|51.4606738207,-2....|2005-01-01T00:00:...|2015-12-31T00:00:...|  False|Continuous (Refer...|\n",
            "|2013-08-24T02:00:...|   31.75|    23.5|    5.25|   203|22.2230|14.62690601| null|9.27125962|12.052908769|3.2491655|null|40.65212|7.604697174|  9.5137689|null|        null|   Brislington Depot|51.4417471802,-2....|2001-01-01T00:00:...|                null|   True|Continuous (Refer...|\n",
            "|2013-08-24T03:00:...|    23.5|   12.75|    6.75|   270|22.2230|14.62690601| null|9.27125962|12.052908769|3.2491655|null|40.65212|7.604697174|  9.5137689|null|        null|          Wells Road|51.4278638883,-2....|2003-05-23T00:00:...|                null|   True|Continuous (Refer...|\n",
            "|2013-08-24T04:00:...|   39.75|    26.0|     9.0|   203|22.2230|14.62690601| null|9.27125962|12.052908769|3.2491655|null|40.65212|7.604697174|  9.5137689|null|        null|   Brislington Depot|51.4417471802,-2....|2001-01-01T00:00:...|                null|   True|Continuous (Refer...|\n",
            "|2013-08-24T04:00:...|  106.75|   16.25|    59.0|   206|22.2230|14.62690601| null|9.27125962|12.052908769|3.2491655|null|40.65212|7.604697174|  9.5137689|null|        null|       Rupert Street|51.4554331987,-2....|2003-01-01T00:00:...|2015-12-31T00:00:...|  False|Continuous (Refer...|\n",
            "|2013-08-24T04:00:...|22.65356|18.31745| 2.82794|   452|   19.5|       16.1|  3.4|      10.5|      14.314|      3.7|null|36.12217|7.604697174|  9.5137689|null|        null|       AURN St Pauls|51.4628294172,-2....|2006-06-15T00:00:...|                null|   True|Continuous (Refer...|\n",
            "|2013-08-24T06:00:...|    98.5|   67.25|    20.5|   215|22.2230|14.62690601| null|9.27125962|12.052908769|3.2491655|null|40.65212|7.604697174|  9.5137689|null|        null|Parson Street School|51.432675707,-2.6...|2002-02-01T00:00:...|                null|   True|Continuous (Refer...|\n",
            "|2013-08-24T06:00:...|    54.5|    21.5|   21.25|   463|22.2230|14.62690601| null|9.27125962|12.052908769|3.2491655|null|40.65212|7.604697174|  9.5137689|null|        null|      Fishponds Road|51.4780449714,-2....|2009-03-13T00:00:...|                null|   True|Continuous (Refer...|\n",
            "+--------------------+--------+--------+--------+------+-------+-----------+-----+----------+------------+---------+----+--------+-----------+-----------+----+------------+--------------------+--------------------+--------------------+--------------------+-------+--------------------+\n",
            "only showing top 20 rows\n",
            "\n"
          ]
        }
      ]
    },
    {
      "cell_type": "code",
      "source": [
        "from pyspark.sql.functions import mean\n",
        "\n",
        "   \n",
        "mean_val_VPM10=df_bristol.select(mean(df_bristol.VPM10)).collect()\n",
        "print(type(mean_val_VPM10)) #mean_val_PM10 is a list row object\n",
        "print('mean value of VPM10', mean_val_VPM10[0][0])\n",
        "mean_val_VPM10=mean_val_VPM10[0][0]\n",
        "                 \n",
        " #now using mean_temp value to fill the nulls in PM2_5 column\n",
        "df_bristol=df_bristol.na.fill(value=\"3.1834\",subset=['VPM10'])\n",
        "df_bristol.show()"
      ],
      "metadata": {
        "colab": {
          "base_uri": "https://localhost:8080/"
        },
        "id": "ZxBu7Ky_A6zn",
        "outputId": "c3115eb0-13a0-449c-f1dd-2e2fb88245a9"
      },
      "execution_count": null,
      "outputs": [
        {
          "output_type": "stream",
          "name": "stdout",
          "text": [
            "<class 'list'>\n",
            "mean value of VPM10 3.183470501056342\n",
            "+--------------------+--------+--------+--------+------+-------+-----------+------+----------+------------+---------+----+--------+-----------+-----------+----+------------+--------------------+--------------------+--------------------+--------------------+-------+--------------------+\n",
            "|           Date Time|     NOx|     NO2|      NO|SiteID|   PM10|     NVPM10| VPM10|   NVPM2_5|       PM2_5|   VPM2_5|  CO|      O3|        SO2|Temperature|  RH|Air Pressure|            Location|        geo_point_2d|           DateStart|             DateEnd|Current|     Instrument Type|\n",
            "+--------------------+--------+--------+--------+------+-------+-----------+------+----------+------------+---------+----+--------+-----------+-----------+----+------------+--------------------+--------------------+--------------------+--------------------+-------+--------------------+\n",
            "|2013-08-23T07:00:...|51.54044|30.50055|13.72186|   452|   27.8|       23.2|   4.6|      16.4|      19.454|      2.9|null|20.40603|7.604697174|  9.5137689|null|        null|       AURN St Pauls|51.4628294172,-2....|2006-06-15T00:00:...|                null|   True|Continuous (Refer...|\n",
            "|2013-08-23T08:00:...|    94.5|   44.25|    33.0|   203|22.2230|14.62690601|3.1834|9.27125962|12.052908769|3.2491655|null|40.65212|7.604697174|  9.5137689|null|        null|   Brislington Depot|51.4417471802,-2....|2001-01-01T00:00:...|                null|   True|Continuous (Refer...|\n",
            "|2013-08-23T10:00:...|  242.75|   59.75|   119.5|   206|22.2230|14.62690601|3.1834|9.27125962|12.052908769|3.2491655|null|40.65212|7.604697174|  9.5137689|null|        null|       Rupert Street|51.4554331987,-2....|2003-01-01T00:00:...|2015-12-31T00:00:...|  False|Continuous (Refer...|\n",
            "|2013-08-23T14:00:...|  197.75|   73.25|   81.25|   270|22.2230|14.62690601|3.1834|9.27125962|12.052908769|3.2491655|null|40.65212|7.604697174|  9.5137689|null|        null|          Wells Road|51.4278638883,-2....|2003-05-23T00:00:...|                null|   True|Continuous (Refer...|\n",
            "|2013-08-23T18:00:...|    81.0|    55.5|    16.5|   203|22.2230|14.62690601|3.1834|9.27125962|12.052908769|3.2491655|null|40.65212|7.604697174|  9.5137689|null|        null|   Brislington Depot|51.4417471802,-2....|2001-01-01T00:00:...|                null|   True|Continuous (Refer...|\n",
            "|2013-08-23T18:00:...|46.65544|42.06448| 2.99414|   452|   31.1|       26.5|   4.6|      19.7|      24.595|      4.7|null|42.30884|7.604697174|  9.5137689|null|        null|       AURN St Pauls|51.4628294172,-2....|2006-06-15T00:00:...|                null|   True|Continuous (Refer...|\n",
            "|2013-08-23T19:00:...|   95.75|    65.5|   19.75|   215|22.2230|14.62690601|3.1834|9.27125962|12.052908769|3.2491655|null|40.65212|7.604697174|  9.5137689|null|        null|Parson Street School|51.432675707,-2.6...|2002-02-01T00:00:...|                null|   True|Continuous (Refer...|\n",
            "|2013-08-23T19:00:...|  116.25|    67.5|    32.0|   375|22.2230|14.62690601|3.1834|9.27125962|12.052908769|3.2491655|null|40.65212|7.604697174|  9.5137689|null|        null|Newfoundland Road...|51.4606738207,-2....|2005-01-01T00:00:...|2015-12-31T00:00:...|  False|Continuous (Refer...|\n",
            "|2013-08-23T20:00:...|   221.0|   63.75|   102.5|   206|22.2230|14.62690601|3.1834|9.27125962|12.052908769|3.2491655|null|40.65212|7.604697174|  9.5137689|null|        null|       Rupert Street|51.4554331987,-2....|2003-01-01T00:00:...|2015-12-31T00:00:...|  False|Continuous (Refer...|\n",
            "|2013-08-23T21:00:...|   127.0|    52.0|    49.0|   463|22.2230|14.62690601|3.1834|9.27125962|12.052908769|3.2491655|null|40.65212|7.604697174|  9.5137689|null|        null|      Fishponds Road|51.4780449714,-2....|2009-03-13T00:00:...|                null|   True|Continuous (Refer...|\n",
            "|2013-08-23T22:00:...|   64.25|    42.5|   14.25|   215|22.2230|14.62690601|3.1834|9.27125962|12.052908769|3.2491655|null|40.65212|7.604697174|  9.5137689|null|        null|Parson Street School|51.432675707,-2.6...|2002-02-01T00:00:...|                null|   True|Continuous (Refer...|\n",
            "|2013-08-23T22:00:...|32.00043|28.99493| 1.96013|   452|   32.3|       20.9|  11.4|      16.2|      25.603|      9.2|null|30.73378|7.604697174|  9.5137689|null|        null|       AURN St Pauls|51.4628294172,-2....|2006-06-15T00:00:...|                null|   True|Continuous (Refer...|\n",
            "|2013-08-24T01:00:...|   68.25|   42.75|   16.25|   375|22.2230|14.62690601|3.1834|9.27125962|12.052908769|3.2491655|null|40.65212|7.604697174|  9.5137689|null|        null|Newfoundland Road...|51.4606738207,-2....|2005-01-01T00:00:...|2015-12-31T00:00:...|  False|Continuous (Refer...|\n",
            "|2013-08-24T02:00:...|   31.75|    23.5|    5.25|   203|22.2230|14.62690601|3.1834|9.27125962|12.052908769|3.2491655|null|40.65212|7.604697174|  9.5137689|null|        null|   Brislington Depot|51.4417471802,-2....|2001-01-01T00:00:...|                null|   True|Continuous (Refer...|\n",
            "|2013-08-24T03:00:...|    23.5|   12.75|    6.75|   270|22.2230|14.62690601|3.1834|9.27125962|12.052908769|3.2491655|null|40.65212|7.604697174|  9.5137689|null|        null|          Wells Road|51.4278638883,-2....|2003-05-23T00:00:...|                null|   True|Continuous (Refer...|\n",
            "|2013-08-24T04:00:...|   39.75|    26.0|     9.0|   203|22.2230|14.62690601|3.1834|9.27125962|12.052908769|3.2491655|null|40.65212|7.604697174|  9.5137689|null|        null|   Brislington Depot|51.4417471802,-2....|2001-01-01T00:00:...|                null|   True|Continuous (Refer...|\n",
            "|2013-08-24T04:00:...|  106.75|   16.25|    59.0|   206|22.2230|14.62690601|3.1834|9.27125962|12.052908769|3.2491655|null|40.65212|7.604697174|  9.5137689|null|        null|       Rupert Street|51.4554331987,-2....|2003-01-01T00:00:...|2015-12-31T00:00:...|  False|Continuous (Refer...|\n",
            "|2013-08-24T04:00:...|22.65356|18.31745| 2.82794|   452|   19.5|       16.1|   3.4|      10.5|      14.314|      3.7|null|36.12217|7.604697174|  9.5137689|null|        null|       AURN St Pauls|51.4628294172,-2....|2006-06-15T00:00:...|                null|   True|Continuous (Refer...|\n",
            "|2013-08-24T06:00:...|    98.5|   67.25|    20.5|   215|22.2230|14.62690601|3.1834|9.27125962|12.052908769|3.2491655|null|40.65212|7.604697174|  9.5137689|null|        null|Parson Street School|51.432675707,-2.6...|2002-02-01T00:00:...|                null|   True|Continuous (Refer...|\n",
            "|2013-08-24T06:00:...|    54.5|    21.5|   21.25|   463|22.2230|14.62690601|3.1834|9.27125962|12.052908769|3.2491655|null|40.65212|7.604697174|  9.5137689|null|        null|      Fishponds Road|51.4780449714,-2....|2009-03-13T00:00:...|                null|   True|Continuous (Refer...|\n",
            "+--------------------+--------+--------+--------+------+-------+-----------+------+----------+------------+---------+----+--------+-----------+-----------+----+------------+--------------------+--------------------+--------------------+--------------------+-------+--------------------+\n",
            "only showing top 20 rows\n",
            "\n"
          ]
        }
      ]
    },
    {
      "cell_type": "code",
      "source": [
        "from pyspark.sql.functions import mean\n",
        "\n",
        "   \n",
        "mean_val_CO=df_bristol.select(mean(df_bristol.CO)).collect()\n",
        "print(type(mean_val_CO)) #mean_val_CO is a list row object\n",
        "print('mean value of CO', mean_val_CO[0][0])\n",
        "mean_val_CO=mean_val_CO[0][0]\n",
        "                 \n",
        " #now using mean_temp value to fill the nulls in PM2_5 column\n",
        "df_bristol=df_bristol.na.fill(value=\" 0.507\",subset=['CO'])\n",
        "df_bristol.show()"
      ],
      "metadata": {
        "colab": {
          "base_uri": "https://localhost:8080/"
        },
        "id": "s_MWN37KBTzD",
        "outputId": "28d73389-a71b-44bb-842b-28a712b9f9e9"
      },
      "execution_count": null,
      "outputs": [
        {
          "output_type": "stream",
          "name": "stdout",
          "text": [
            "<class 'list'>\n",
            "mean value of CO 0.5077614964526624\n",
            "+--------------------+--------+--------+--------+------+-------+-----------+------+----------+------------+---------+------+--------+-----------+-----------+----+------------+--------------------+--------------------+--------------------+--------------------+-------+--------------------+\n",
            "|           Date Time|     NOx|     NO2|      NO|SiteID|   PM10|     NVPM10| VPM10|   NVPM2_5|       PM2_5|   VPM2_5|    CO|      O3|        SO2|Temperature|  RH|Air Pressure|            Location|        geo_point_2d|           DateStart|             DateEnd|Current|     Instrument Type|\n",
            "+--------------------+--------+--------+--------+------+-------+-----------+------+----------+------------+---------+------+--------+-----------+-----------+----+------------+--------------------+--------------------+--------------------+--------------------+-------+--------------------+\n",
            "|2013-08-23T07:00:...|51.54044|30.50055|13.72186|   452|   27.8|       23.2|   4.6|      16.4|      19.454|      2.9| 0.507|20.40603|7.604697174|  9.5137689|null|        null|       AURN St Pauls|51.4628294172,-2....|2006-06-15T00:00:...|                null|   True|Continuous (Refer...|\n",
            "|2013-08-23T08:00:...|    94.5|   44.25|    33.0|   203|22.2230|14.62690601|3.1834|9.27125962|12.052908769|3.2491655| 0.507|40.65212|7.604697174|  9.5137689|null|        null|   Brislington Depot|51.4417471802,-2....|2001-01-01T00:00:...|                null|   True|Continuous (Refer...|\n",
            "|2013-08-23T10:00:...|  242.75|   59.75|   119.5|   206|22.2230|14.62690601|3.1834|9.27125962|12.052908769|3.2491655| 0.507|40.65212|7.604697174|  9.5137689|null|        null|       Rupert Street|51.4554331987,-2....|2003-01-01T00:00:...|2015-12-31T00:00:...|  False|Continuous (Refer...|\n",
            "|2013-08-23T14:00:...|  197.75|   73.25|   81.25|   270|22.2230|14.62690601|3.1834|9.27125962|12.052908769|3.2491655| 0.507|40.65212|7.604697174|  9.5137689|null|        null|          Wells Road|51.4278638883,-2....|2003-05-23T00:00:...|                null|   True|Continuous (Refer...|\n",
            "|2013-08-23T18:00:...|    81.0|    55.5|    16.5|   203|22.2230|14.62690601|3.1834|9.27125962|12.052908769|3.2491655| 0.507|40.65212|7.604697174|  9.5137689|null|        null|   Brislington Depot|51.4417471802,-2....|2001-01-01T00:00:...|                null|   True|Continuous (Refer...|\n",
            "|2013-08-23T18:00:...|46.65544|42.06448| 2.99414|   452|   31.1|       26.5|   4.6|      19.7|      24.595|      4.7| 0.507|42.30884|7.604697174|  9.5137689|null|        null|       AURN St Pauls|51.4628294172,-2....|2006-06-15T00:00:...|                null|   True|Continuous (Refer...|\n",
            "|2013-08-23T19:00:...|   95.75|    65.5|   19.75|   215|22.2230|14.62690601|3.1834|9.27125962|12.052908769|3.2491655| 0.507|40.65212|7.604697174|  9.5137689|null|        null|Parson Street School|51.432675707,-2.6...|2002-02-01T00:00:...|                null|   True|Continuous (Refer...|\n",
            "|2013-08-23T19:00:...|  116.25|    67.5|    32.0|   375|22.2230|14.62690601|3.1834|9.27125962|12.052908769|3.2491655| 0.507|40.65212|7.604697174|  9.5137689|null|        null|Newfoundland Road...|51.4606738207,-2....|2005-01-01T00:00:...|2015-12-31T00:00:...|  False|Continuous (Refer...|\n",
            "|2013-08-23T20:00:...|   221.0|   63.75|   102.5|   206|22.2230|14.62690601|3.1834|9.27125962|12.052908769|3.2491655| 0.507|40.65212|7.604697174|  9.5137689|null|        null|       Rupert Street|51.4554331987,-2....|2003-01-01T00:00:...|2015-12-31T00:00:...|  False|Continuous (Refer...|\n",
            "|2013-08-23T21:00:...|   127.0|    52.0|    49.0|   463|22.2230|14.62690601|3.1834|9.27125962|12.052908769|3.2491655| 0.507|40.65212|7.604697174|  9.5137689|null|        null|      Fishponds Road|51.4780449714,-2....|2009-03-13T00:00:...|                null|   True|Continuous (Refer...|\n",
            "|2013-08-23T22:00:...|   64.25|    42.5|   14.25|   215|22.2230|14.62690601|3.1834|9.27125962|12.052908769|3.2491655| 0.507|40.65212|7.604697174|  9.5137689|null|        null|Parson Street School|51.432675707,-2.6...|2002-02-01T00:00:...|                null|   True|Continuous (Refer...|\n",
            "|2013-08-23T22:00:...|32.00043|28.99493| 1.96013|   452|   32.3|       20.9|  11.4|      16.2|      25.603|      9.2| 0.507|30.73378|7.604697174|  9.5137689|null|        null|       AURN St Pauls|51.4628294172,-2....|2006-06-15T00:00:...|                null|   True|Continuous (Refer...|\n",
            "|2013-08-24T01:00:...|   68.25|   42.75|   16.25|   375|22.2230|14.62690601|3.1834|9.27125962|12.052908769|3.2491655| 0.507|40.65212|7.604697174|  9.5137689|null|        null|Newfoundland Road...|51.4606738207,-2....|2005-01-01T00:00:...|2015-12-31T00:00:...|  False|Continuous (Refer...|\n",
            "|2013-08-24T02:00:...|   31.75|    23.5|    5.25|   203|22.2230|14.62690601|3.1834|9.27125962|12.052908769|3.2491655| 0.507|40.65212|7.604697174|  9.5137689|null|        null|   Brislington Depot|51.4417471802,-2....|2001-01-01T00:00:...|                null|   True|Continuous (Refer...|\n",
            "|2013-08-24T03:00:...|    23.5|   12.75|    6.75|   270|22.2230|14.62690601|3.1834|9.27125962|12.052908769|3.2491655| 0.507|40.65212|7.604697174|  9.5137689|null|        null|          Wells Road|51.4278638883,-2....|2003-05-23T00:00:...|                null|   True|Continuous (Refer...|\n",
            "|2013-08-24T04:00:...|   39.75|    26.0|     9.0|   203|22.2230|14.62690601|3.1834|9.27125962|12.052908769|3.2491655| 0.507|40.65212|7.604697174|  9.5137689|null|        null|   Brislington Depot|51.4417471802,-2....|2001-01-01T00:00:...|                null|   True|Continuous (Refer...|\n",
            "|2013-08-24T04:00:...|  106.75|   16.25|    59.0|   206|22.2230|14.62690601|3.1834|9.27125962|12.052908769|3.2491655| 0.507|40.65212|7.604697174|  9.5137689|null|        null|       Rupert Street|51.4554331987,-2....|2003-01-01T00:00:...|2015-12-31T00:00:...|  False|Continuous (Refer...|\n",
            "|2013-08-24T04:00:...|22.65356|18.31745| 2.82794|   452|   19.5|       16.1|   3.4|      10.5|      14.314|      3.7| 0.507|36.12217|7.604697174|  9.5137689|null|        null|       AURN St Pauls|51.4628294172,-2....|2006-06-15T00:00:...|                null|   True|Continuous (Refer...|\n",
            "|2013-08-24T06:00:...|    98.5|   67.25|    20.5|   215|22.2230|14.62690601|3.1834|9.27125962|12.052908769|3.2491655| 0.507|40.65212|7.604697174|  9.5137689|null|        null|Parson Street School|51.432675707,-2.6...|2002-02-01T00:00:...|                null|   True|Continuous (Refer...|\n",
            "|2013-08-24T06:00:...|    54.5|    21.5|   21.25|   463|22.2230|14.62690601|3.1834|9.27125962|12.052908769|3.2491655| 0.507|40.65212|7.604697174|  9.5137689|null|        null|      Fishponds Road|51.4780449714,-2....|2009-03-13T00:00:...|                null|   True|Continuous (Refer...|\n",
            "+--------------------+--------+--------+--------+------+-------+-----------+------+----------+------------+---------+------+--------+-----------+-----------+----+------------+--------------------+--------------------+--------------------+--------------------+-------+--------------------+\n",
            "only showing top 20 rows\n",
            "\n"
          ]
        }
      ]
    }
  ]
}